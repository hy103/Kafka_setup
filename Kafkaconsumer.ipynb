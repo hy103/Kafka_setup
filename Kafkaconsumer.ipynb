{
 "cells": [
  {
   "cell_type": "code",
   "execution_count": 5,
   "metadata": {},
   "outputs": [],
   "source": [
    "from kafka import KafkaConsumer\n",
    "from time import sleep\n",
    "from json import dumps,loads\n",
    "import json\n",
    "from s3fs import S3FileSystem\n",
    "import time\n",
    "import pandas as pd"
   ]
  },
  {
   "cell_type": "code",
   "execution_count": 6,
   "metadata": {},
   "outputs": [
    {
     "name": "stdout",
     "output_type": "stream",
     "text": [
      "No new messages received for 10 seconds. Closing consumer.\n",
      "Final DataFrame:\n",
      "               Id  ActivityHour Calories\n",
      "0      1503960366  3/12/16 0:00       48\n",
      "1      1503960366  3/12/16 1:00       48\n",
      "2      1503960366  3/12/16 2:00       48\n",
      "3      1503960366  3/12/16 3:00       48\n",
      "4      1503960366  3/12/16 4:00       48\n",
      "...           ...           ...      ...\n",
      "24079  8877689391  4/12/16 4:00       73\n",
      "24080  8877689391  4/12/16 5:00       73\n",
      "24081  8877689391  4/12/16 6:00       96\n",
      "24082  8877689391  4/12/16 7:00      169\n",
      "24083  8877689391  4/12/16 8:00      136\n",
      "\n",
      "[24084 rows x 3 columns]\n"
     ]
    }
   ],
   "source": [
    "df = pd.DataFrame(columns=['Id', 'ActivityHour', 'Calories'])\n",
    "consumer = KafkaConsumer(\n",
    "    'demo_test', \n",
    "    bootstrap_servers=[\"localhost:9092\"], \n",
    "    value_deserializer=lambda x: loads(x.decode('utf-8')),\n",
    "    enable_auto_commit=False,\n",
    "    auto_offset_reset='earliest',\n",
    "    consumer_timeout_ms=10000\n",
    ")\n",
    "\n",
    "timeout = 10  # 10 seconds timeout if no new messages are received\n",
    "start_time = time.time()\n",
    "\n",
    "try:\n",
    "    while True:\n",
    "        message_batch = consumer.poll(timeout_ms=1000)\n",
    "        if message_batch:\n",
    "            for tp, messages in message_batch.items():\n",
    "                for message in messages:\n",
    "\n",
    "                    message_df = pd.DataFrame([message.value])\n",
    "                    df = pd.concat([df, message_df], ignore_index=True)\n",
    "\n",
    "            start_time = time.time()\n",
    "\n",
    "        else:\n",
    "            if time.time() -start_time > timeout:\n",
    "                print(\"No new messages received for 10 seconds. Closing consumer.\")\n",
    "                break\n",
    "finally:\n",
    "    consumer.close()\n",
    "print(\"Final DataFrame:\")\n",
    "print(df)\n"
   ]
  },
  {
   "cell_type": "code",
   "execution_count": null,
   "metadata": {},
   "outputs": [],
   "source": []
  }
 ],
 "metadata": {
  "kernelspec": {
   "display_name": "Python 3.10 (tensorflow)",
   "language": "python",
   "name": "tensorflow"
  },
  "language_info": {
   "codemirror_mode": {
    "name": "ipython",
    "version": 3
   },
   "file_extension": ".py",
   "mimetype": "text/x-python",
   "name": "python",
   "nbconvert_exporter": "python",
   "pygments_lexer": "ipython3",
   "version": "3.9.6"
  },
  "orig_nbformat": 4
 },
 "nbformat": 4,
 "nbformat_minor": 2
}
